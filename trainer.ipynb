{
 "cells": [
  {
   "cell_type": "markdown",
   "metadata": {},
   "source": []
  },
  {
   "cell_type": "code",
   "execution_count": 1,
   "metadata": {
    "ExecuteTime": {
     "end_time": "2021-07-23T04:19:23.488642Z",
     "start_time": "2021-07-23T04:19:21.854534Z"
    }
   },
   "outputs": [],
   "source": [
    "import os\n",
    "import torch.backends.cudnn as cudnn\n",
    "import yaml\n",
    "from utils import AttrDict\n",
    "import pandas as pd"
   ]
  },
  {
   "cell_type": "code",
   "execution_count": 2,
   "metadata": {
    "ExecuteTime": {
     "end_time": "2021-07-23T04:19:23.885144Z",
     "start_time": "2021-07-23T04:19:23.880564Z"
    },
    "code_folding": []
   },
   "outputs": [],
   "source": [
    "cudnn.benchmark = True\n",
    "cudnn.deterministic = False"
   ]
  },
  {
   "cell_type": "code",
   "execution_count": 3,
   "metadata": {
    "ExecuteTime": {
     "end_time": "2021-07-23T04:19:24.119144Z",
     "start_time": "2021-07-23T04:19:24.112032Z"
    },
    "code_folding": [
     0
    ]
   },
   "outputs": [],
   "source": [
    "def get_config(file_path):\n",
    "    with open(file_path, 'r', encoding=\"utf8\") as stream:\n",
    "        opt = yaml.safe_load(stream)\n",
    "    opt = AttrDict(opt)\n",
    "    if opt.lang_char == 'None':\n",
    "        characters = ''\n",
    "        for data in opt['select_data'].split('-'):\n",
    "            csv_path = os.path.join(opt['train_data'], data, 'labels.csv')\n",
    "            df = pd.read_csv(csv_path, sep='^([^,]+),', engine='python', usecols=['filename', 'words'], keep_default_na=False)\n",
    "            all_char = ''.join(df['words'])\n",
    "            characters += ''.join(set(all_char))\n",
    "        characters = sorted(set(characters))\n",
    "        opt.character= ''.join(characters)\n",
    "    else:\n",
    "        opt.character = opt.number + opt.symbol + opt.lang_char\n",
    "    os.makedirs(f'./saved_models/{opt.experiment_name}', exist_ok=True)\n",
    "    return opt"
   ]
  },
  {
   "cell_type": "code",
   "execution_count": 4,
   "metadata": {},
   "outputs": [],
   "source": [
    "from train import train\n"
   ]
  },
  {
   "cell_type": "code",
   "execution_count": 5,
   "metadata": {
    "ExecuteTime": {
     "end_time": "2021-07-23T04:49:07.045060Z",
     "start_time": "2021-07-23T04:20:15.050992Z"
    }
   },
   "outputs": [
    {
     "name": "stdout",
     "output_type": "stream",
     "text": [
      "Filtering the images containing characters which are not in opt.character\n",
      "Filtering the images whose label is longer than opt.batch_max_length\n",
      "--------------------------------------------------------------------------------\n",
      "dataset_root: all_data\n",
      "opt.select_data: ['en_train_filtered']\n",
      "opt.batch_ratio: ['1']\n",
      "--------------------------------------------------------------------------------\n",
      "dataset_root:    all_data\t dataset: en_train_filtered\n",
      "all_data/en_train_filtered\n",
      "sub-directory:\t/en_train_filtered\t num samples: 893\n",
      "num total samples of en_train_filtered: 893 x 1.0 (total_data_usage_ratio) = 893\n",
      "num samples of en_train_filtered per batch: 16 x 1.0 (batch_ratio) = 16\n",
      "--------------------------------------------------------------------------------\n",
      "Total_batch_size: 16 = 16\n",
      "--------------------------------------------------------------------------------\n",
      "dataset_root:    all_data/en_val\t dataset: /\n",
      "all_data/en_val/\n",
      "sub-directory:\t/.\t num samples: 10\n",
      "--------------------------------------------------------------------------------\n",
      "No Transformation module specified\n",
      "model input parameters 64 600 20 1 256 256 163 50 None VGG BiLSTM CTC\n",
      "Model:\n",
      "DataParallel(\n",
      "  (module): Model(\n",
      "    (FeatureExtraction): VGG_FeatureExtractor(\n",
      "      (ConvNet): Sequential(\n",
      "        (0): Conv2d(1, 32, kernel_size=(3, 3), stride=(1, 1), padding=(1, 1))\n",
      "        (1): ReLU(inplace=True)\n",
      "        (2): MaxPool2d(kernel_size=2, stride=2, padding=0, dilation=1, ceil_mode=False)\n",
      "        (3): Conv2d(32, 64, kernel_size=(3, 3), stride=(1, 1), padding=(1, 1))\n",
      "        (4): ReLU(inplace=True)\n",
      "        (5): MaxPool2d(kernel_size=2, stride=2, padding=0, dilation=1, ceil_mode=False)\n",
      "        (6): Conv2d(64, 128, kernel_size=(3, 3), stride=(1, 1), padding=(1, 1))\n",
      "        (7): ReLU(inplace=True)\n",
      "        (8): Conv2d(128, 128, kernel_size=(3, 3), stride=(1, 1), padding=(1, 1))\n",
      "        (9): ReLU(inplace=True)\n",
      "        (10): MaxPool2d(kernel_size=(2, 1), stride=(2, 1), padding=0, dilation=1, ceil_mode=False)\n",
      "        (11): Conv2d(128, 256, kernel_size=(3, 3), stride=(1, 1), padding=(1, 1), bias=False)\n",
      "        (12): BatchNorm2d(256, eps=1e-05, momentum=0.1, affine=True, track_running_stats=True)\n",
      "        (13): ReLU(inplace=True)\n",
      "        (14): Conv2d(256, 256, kernel_size=(3, 3), stride=(1, 1), padding=(1, 1), bias=False)\n",
      "        (15): BatchNorm2d(256, eps=1e-05, momentum=0.1, affine=True, track_running_stats=True)\n",
      "        (16): ReLU(inplace=True)\n",
      "        (17): MaxPool2d(kernel_size=(2, 1), stride=(2, 1), padding=0, dilation=1, ceil_mode=False)\n",
      "        (18): Conv2d(256, 256, kernel_size=(2, 2), stride=(1, 1))\n",
      "        (19): ReLU(inplace=True)\n",
      "      )\n",
      "    )\n",
      "    (AdaptiveAvgPool): AdaptiveAvgPool2d(output_size=(None, 1))\n",
      "    (SequenceModeling): Sequential(\n",
      "      (0): BidirectionalLSTM(\n",
      "        (rnn): LSTM(256, 256, batch_first=True, bidirectional=True)\n",
      "        (linear): Linear(in_features=512, out_features=256, bias=True)\n",
      "      )\n",
      "      (1): BidirectionalLSTM(\n",
      "        (rnn): LSTM(256, 256, batch_first=True, bidirectional=True)\n",
      "        (linear): Linear(in_features=512, out_features=256, bias=True)\n",
      "      )\n",
      "    )\n",
      "    (Prediction): Linear(in_features=256, out_features=163, bias=True)\n",
      "  )\n",
      ")\n",
      "Modules, Parameters\n",
      "module.FeatureExtraction.ConvNet.0.weight 288\n",
      "module.FeatureExtraction.ConvNet.0.bias 32\n",
      "module.FeatureExtraction.ConvNet.3.weight 18432\n",
      "module.FeatureExtraction.ConvNet.3.bias 64\n",
      "module.FeatureExtraction.ConvNet.6.weight 73728\n",
      "module.FeatureExtraction.ConvNet.6.bias 128\n",
      "module.FeatureExtraction.ConvNet.8.weight 147456\n",
      "module.FeatureExtraction.ConvNet.8.bias 128\n",
      "module.FeatureExtraction.ConvNet.11.weight 294912\n",
      "module.FeatureExtraction.ConvNet.12.weight 256\n",
      "module.FeatureExtraction.ConvNet.12.bias 256\n",
      "module.FeatureExtraction.ConvNet.14.weight 589824\n",
      "module.FeatureExtraction.ConvNet.15.weight 256\n",
      "module.FeatureExtraction.ConvNet.15.bias 256\n",
      "module.FeatureExtraction.ConvNet.18.weight 262144\n",
      "module.FeatureExtraction.ConvNet.18.bias 256\n",
      "module.SequenceModeling.0.rnn.weight_ih_l0 262144\n",
      "module.SequenceModeling.0.rnn.weight_hh_l0 262144\n",
      "module.SequenceModeling.0.rnn.bias_ih_l0 1024\n",
      "module.SequenceModeling.0.rnn.bias_hh_l0 1024\n",
      "module.SequenceModeling.0.rnn.weight_ih_l0_reverse 262144\n",
      "module.SequenceModeling.0.rnn.weight_hh_l0_reverse 262144\n",
      "module.SequenceModeling.0.rnn.bias_ih_l0_reverse 1024\n",
      "module.SequenceModeling.0.rnn.bias_hh_l0_reverse 1024\n",
      "module.SequenceModeling.0.linear.weight 131072\n",
      "module.SequenceModeling.0.linear.bias 256\n",
      "module.SequenceModeling.1.rnn.weight_ih_l0 262144\n",
      "module.SequenceModeling.1.rnn.weight_hh_l0 262144\n",
      "module.SequenceModeling.1.rnn.bias_ih_l0 1024\n",
      "module.SequenceModeling.1.rnn.bias_hh_l0 1024\n",
      "module.SequenceModeling.1.rnn.weight_ih_l0_reverse 262144\n",
      "module.SequenceModeling.1.rnn.weight_hh_l0_reverse 262144\n",
      "module.SequenceModeling.1.rnn.bias_ih_l0_reverse 1024\n",
      "module.SequenceModeling.1.rnn.bias_hh_l0_reverse 1024\n",
      "module.SequenceModeling.1.linear.weight 131072\n",
      "module.SequenceModeling.1.linear.bias 256\n",
      "module.Prediction.weight 41728\n",
      "module.Prediction.bias 163\n",
      "Total Trainable Params: 3798307\n",
      "Trainable params num :  3798307\n",
      "Optimizer:\n",
      "Adadelta (\n",
      "Parameter Group 0\n",
      "    differentiable: False\n",
      "    eps: 1e-08\n",
      "    foreach: None\n",
      "    lr: 0.98\n",
      "    maximize: False\n",
      "    rho: 0.95\n",
      "    weight_decay: 0\n",
      ")\n",
      "------------ Options -------------\n",
      "number: 0123456789\n",
      "symbol: !\"#$%&'()*+,-./:;<=>?@[\\]^_`{|}~ €\n",
      "lang_char: ABCDEFGHIJKLMNOPQRSTUVWXYZabcdefghijklmnopqrstuvwxyzАБВГДЕЁЖЗИЙКЛМНОПРСТУФХЦЧШЩЪЫЬЭЮЯабвгдеёжзийклмнопрстуфхцчшщъыьэюя\n",
      "experiment_name: en_filtered\n",
      "train_data: all_data\n",
      "valid_data: all_data/en_val\n",
      "manualSeed: 1111\n",
      "workers: 2\n",
      "batch_size: 16\n",
      "num_iter: 100000\n",
      "valInterval: 500\n",
      "saved_model: \n",
      "FT: False\n",
      "optim: False\n",
      "lr: 0.98\n",
      "beta1: 0.9\n",
      "rho: 0.95\n",
      "eps: 1e-08\n",
      "grad_clip: 5\n",
      "select_data: ['en_train_filtered']\n",
      "batch_ratio: ['1']\n",
      "total_data_usage_ratio: 1.0\n",
      "batch_max_length: 50\n",
      "imgH: 64\n",
      "imgW: 600\n",
      "rgb: False\n",
      "contrast_adjust: 0.0\n",
      "sensitive: True\n",
      "PAD: True\n",
      "data_filtering_off: False\n",
      "Transformation: None\n",
      "FeatureExtraction: VGG\n",
      "SequenceModeling: BiLSTM\n",
      "Prediction: CTC\n",
      "num_fiducial: 20\n",
      "input_channel: 1\n",
      "output_channel: 256\n",
      "hidden_size: 256\n",
      "decode: greedy\n",
      "new_prediction: False\n",
      "freeze_FeatureFxtraction: False\n",
      "freeze_SequenceModeling: False\n",
      "character: 0123456789!\"#$%&'()*+,-./:;<=>?@[\\]^_`{|}~ €ABCDEFGHIJKLMNOPQRSTUVWXYZabcdefghijklmnopqrstuvwxyzАБВГДЕЁЖЗИЙКЛМНОПРСТУФХЦЧШЩЪЫЬЭЮЯабвгдеёжзийклмнопрстуфхцчшщъыьэюя\n",
      "num_class: 163\n",
      "---------------------------------------\n",
      "\n",
      "cournter is 0\n"
     ]
    },
    {
     "name": "stderr",
     "output_type": "stream",
     "text": [
      "c:\\Users\\polad\\AppData\\Local\\Programs\\Python\\Python39\\lib\\site-packages\\torch\\amp\\grad_scaler.py:131: UserWarning: torch.cuda.amp.GradScaler is enabled, but CUDA is not available.  Disabling.\n",
      "  warnings.warn(\n"
     ]
    },
    {
     "name": "stdout",
     "output_type": "stream",
     "text": [
      "text is ('CARGO MANIFEST', 'ГРУЗОВОЙ МАНИФЕСТ', 'VESSEL*S NAME', 'PAROM', '\\'BERKARAR\" No 43', 'FROM TO', 'TURKMENBASHI-ALYAT', 'Shipowner/Судовлалелец', 'Vessel судно', 'Port of Loading/', 'Port/discharge', 'Date', 'Управленне Туркменского', 'BERKARAR\"\" No 43', 'потрузки', 'выгрузки')\n",
      "balanced_batch_texts is ['CARGO MANIFEST', 'ГРУЗОВОЙ МАНИФЕСТ', 'VESSEL*S NAME', 'PAROM', '\\'BERKARAR\" No 43', 'FROM TO', 'TURKMENBASHI-ALYAT', 'Shipowner/Судовлалелец', 'Vessel судно', 'Port of Loading/', 'Port/discharge', 'Date', 'Управленне Туркменского', 'BERKARAR\"\" No 43', 'потрузки', 'выгрузки']\n",
      "balanced_batch_columns is ['s', 'h', 'i', 'p', 'p', 'e', 'r', 's']\n",
      "Iteration 0: Average Loss 63.73085403442383\n",
      "text is ('Морского торгового флота', 'Дата', 'arrier/Перевозчнк', 'Туркменбаши', 'Порт Алят', '17.04.2024r', 'WEIGHT /KG', 'Shippers', 'CONSIGNEE', 'GROSS WEIGHT', 'LENGTH/M', 'NETTO', 'GROSS', 'PRISEP/CAR', 'KG', 'ETR')\n",
      "balanced_batch_texts is ['Морского торгового флота', 'Дата', 'arrier/Перевозчнк', 'Туркменбаши', 'Порт Алят', '17.04.2024r', 'WEIGHT /KG', 'Shippers', 'CONSIGNEE', 'GROSS WEIGHT', 'LENGTH/M', 'NETTO', 'GROSS', 'PRISEP/CAR', 'KG', 'ETR']\n",
      "balanced_batch_columns is ['s', 'h', 'i', 'p', 'p', 'e', 'r', 's']\n",
      "text is ('TURKMENISTAN', 'TURKEY', 'SAPAROW SAPAR', 'EA2718AH/AH6672TR', 'SYGYR DERISI', '\"0,00\"', '\"24000,00\"', '\"14000,00\"', '\"38000,00\"', '\"16,5\"', 'TURKMENISTAN', 'TURKEY', 'OWEZOW JANMYRAT', 'AU6968AH/AH6274TR', 'POTASSIUM CHLORIDE', '\"22372,00\"')\n",
      "balanced_batch_texts is ['TURKMENISTAN', 'TURKEY', 'SAPAROW SAPAR', 'EA2718AH/AH6672TR', 'SYGYR DERISI', '\"0,00\"', '\"24000,00\"', '\"14000,00\"', '\"38000,00\"', '\"16,5\"', 'TURKMENISTAN', 'TURKEY', 'OWEZOW JANMYRAT', 'AU6968AH/AH6274TR', 'POTASSIUM CHLORIDE', '\"22372,00\"']\n",
      "balanced_batch_columns is ['s', 'h', 'i', 'p', 'p', 'e', 'r', 's']\n",
      "text is ('\"22400,00\"', '\"14000,00\"', '\"36400,00\"', '\"16,5\"', 'TURKMENISTAN', 'TURKEY', 'BAYLYYEW YAZBERDI', '5103AGI/6806TAG', 'ТРАНСФОРМАТОР', '\"5710,00\"', '\"2710,00\"', '\"14000,00\"', '\"16710,00\"', '\"16,5\"', 'TURKMENISTAN', 'TURKEY')\n",
      "balanced_batch_texts is ['\"22400,00\"', '\"14000,00\"', '\"36400,00\"', '\"16,5\"', 'TURKMENISTAN', 'TURKEY', 'BAYLYYEW YAZBERDI', '5103AGI/6806TAG', 'ТРАНСФОРМАТОР', '\"5710,00\"', '\"2710,00\"', '\"14000,00\"', '\"16710,00\"', '\"16,5\"', 'TURKMENISTAN', 'TURKEY']\n",
      "balanced_batch_columns is ['s', 'h', 'i', 'p', 'p', 'e', 'r', 's']\n",
      "text is ('ANNAMUHAMMEDOW YLYAS', '9273AGG/5341TAG', 'COTTON GREY CLOTH', '\"20845,00\"', '\"20952,00\"', '\"14000,00\"', '\"34952,00\"', '\"16,5\"', 'TURKMENISTAN', 'TURKEY', 'OWEZNEPESOW CHARY', '4294AGI/2674TAG', 'COTTON GREY CLOTH', '\"20868,00\"', '\"20972,00\"', '\"14000,00\"')\n",
      "balanced_batch_texts is ['ANNAMUHAMMEDOW YLYAS', '9273AGG/5341TAG', 'COTTON GREY CLOTH', '\"20845,00\"', '\"20952,00\"', '\"14000,00\"', '\"34952,00\"', '\"16,5\"', 'TURKMENISTAN', 'TURKEY', 'OWEZNEPESOW CHARY', '4294AGI/2674TAG', 'COTTON GREY CLOTH', '\"20868,00\"', '\"20972,00\"', '\"14000,00\"']\n",
      "balanced_batch_columns is ['s', 'h', 'i', 'p', 'p', 'e', 'r', 's']\n",
      "text is ('\"34972,00\"', '\"16,5\"', 'TURKMENISTAN', 'TURKFY', 'ATAGELDIYEW DOWLETGELDI', '4995AGG/4967TAG', 'COTTON GREY CLOTH', '\"20855,00\"', '\"20921,00\"', '\"14000,00\"', '\"34921,00\"', '\"16,5\"', 'TURKMENISTAN', 'TURKEY', 'BABAGULYYEW BAYMYRAT', 'BG7570AG/AG4347TR')\n",
      "balanced_batch_texts is ['\"34972,00\"', '\"16,5\"', 'TURKMENISTAN', 'TURKFY', 'ATAGELDIYEW DOWLETGELDI', '4995AGG/4967TAG', 'COTTON GREY CLOTH', '\"20855,00\"', '\"20921,00\"', '\"14000,00\"', '\"34921,00\"', '\"16,5\"', 'TURKMENISTAN', 'TURKEY', 'BABAGULYYEW BAYMYRAT', 'BG7570AG/AG4347TR']\n",
      "balanced_batch_columns is ['s', 'h', 'i', 'p', 'p', 'e', 'r', 's']\n",
      "text is ('COTTON GREY CLOTH', '\"20856,00\"', '\"20918,00\"', '\"14000,00\"', '\"34918,00\"', '\"16,5\"', 'TURKMENISTAN', 'TURKEY', 'OWEZNEPESOW DANATAR', '9220AGG/4525TAG', 'COTTON GREY CLOTH', '\"18290,00\"', '\"19344,00\"', '\"14000,00\"', '\"33344,00\"', '\"16,\"')\n",
      "balanced_batch_texts is ['COTTON GREY CLOTH', '\"20856,00\"', '\"20918,00\"', '\"14000,00\"', '\"34918,00\"', '\"16,5\"', 'TURKMENISTAN', 'TURKEY', 'OWEZNEPESOW DANATAR', '9220AGG/4525TAG', 'COTTON GREY CLOTH', '\"18290,00\"', '\"19344,00\"', '\"14000,00\"', '\"33344,00\"', '\"16,\"']\n",
      "balanced_batch_columns is ['s', 'h', 'i', 'p', 'p', 'e', 'r', 's']\n",
      "text is ('TURKMENISTAN', 'TURKEY', 'SAHETMURADOW HANGELDI', '6809AGF/5523TAG', 'COTTON YARN', '\"22006,00\"', '\"22479,00\"', '\"14000,00\"', '\"36479,00\"', '\"16,\"', '10', 'TURKMENISTAN', 'TURKEY', 'DALLAYEW BAYGELDI', 'BY135AH/АН591ЗТR', 'POLYPROPILENE')\n",
      "balanced_batch_texts is ['TURKMENISTAN', 'TURKEY', 'SAHETMURADOW HANGELDI', '6809AGF/5523TAG', 'COTTON YARN', '\"22006,00\"', '\"22479,00\"', '\"14000,00\"', '\"36479,00\"', '\"16,\"', '10', 'TURKMENISTAN', 'TURKEY', 'DALLAYEW BAYGELDI', 'BY135AH/АН591ЗТR', 'POLYPROPILENE']\n",
      "balanced_batch_columns is ['s', 'h', 'i', 'p', 'p', 'e', 'r', 's']\n",
      "text is ('\"22000,00\"', '\"22506,00\"', '\"14000,00\"', '\"36506,00\"', '\"16\"', 'TURKMENISTAN', 'TURKEY', 'DURDYYEW AMANDURDY', '3753AGI/189ATAG', 'МАСЛЕННЫЙ ФИЛЬТР', '\"2200,00\"', '\"2202,00\"', '\"14000,00\"', '\"16202,00\"', '16', 'TURKMENISTAN')\n",
      "balanced_batch_texts is ['\"22000,00\"', '\"22506,00\"', '\"14000,00\"', '\"36506,00\"', '\"16\"', 'TURKMENISTAN', 'TURKEY', 'DURDYYEW AMANDURDY', '3753AGI/189ATAG', 'МАСЛЕННЫЙ ФИЛЬТР', '\"2200,00\"', '\"2202,00\"', '\"14000,00\"', '\"16202,00\"', '16', 'TURKMENISTAN']\n",
      "balanced_batch_columns is ['s', 'h', 'i', 'p', 'p', 'e', 'r', 's']\n",
      "text is ('TURKEY', 'AMANGELDIYEV NURGELDI', 'BD7044BN/BN3723TR', 'POTASSIUM CHLORIDE', '\"21374,00\"', '\"21400,00\"', '\"14000,00\"', '\"35400,00\"', '16', 'TURKMENISTAN', 'TURKEY', 'CAGIL BESHIR', '01623FLA/016644ВA', 'CIGARETTES WITH FILTERS', '\"16202,00\"', '\"16202,00\"')\n",
      "balanced_batch_texts is ['TURKEY', 'AMANGELDIYEV NURGELDI', 'BD7044BN/BN3723TR', 'POTASSIUM CHLORIDE', '\"21374,00\"', '\"21400,00\"', '\"14000,00\"', '\"35400,00\"', '16', 'TURKMENISTAN', 'TURKEY', 'CAGIL BESHIR', '01623FLA/016644ВA', 'CIGARETTES WITH FILTERS', '\"16202,00\"', '\"16202,00\"']\n",
      "balanced_batch_columns is ['s', 'h', 'i', 'p', 'p', 'e', 'r', 's']\n",
      "cournter is 10\n",
      "text is ('\"14000,00\"', '\"30202,00\"', '\"16,5\"', '11', 'TURKMENISTAN', 'TURKEY', 'JANMYRADOV ISA', 'АК1885АН/АН4687TR', 'POLYPROPILENE', '\"24000,00\"', '\"24552,00\"', '\"14000,00\"', '\"38552,00\"', '\"16,5\"', '15', 'TURKMENISTAN')\n",
      "balanced_batch_texts is ['\"14000,00\"', '\"30202,00\"', '\"16,5\"', '11', 'TURKMENISTAN', 'TURKEY', 'JANMYRADOV ISA', 'АК1885АН/АН4687TR', 'POLYPROPILENE', '\"24000,00\"', '\"24552,00\"', '\"14000,00\"', '\"38552,00\"', '\"16,5\"', '15', 'TURKMENISTAN']\n",
      "balanced_batch_columns is ['s', 'h', 'i', 'p', 'p', 'e', 'r', 's']\n",
      "text is ('TURKEY', 'JANMYRADOV HASAN', 'AK5785AH/HI4912TR', 'POLYPROPILENE', '\"24000,00\"', '\"24552,00\"', '\"14000,00\"', '\"38552,00\"', '\"16,5\"', '16', 'TURKMENISTAN', 'TURKEY', 'AKGULYYEV AKMUHAMMET', '1246AGI/682OTAG', 'PACKAGING FILM', '\"24025,00\"')\n",
      "balanced_batch_texts is ['TURKEY', 'JANMYRADOV HASAN', 'AK5785AH/HI4912TR', 'POLYPROPILENE', '\"24000,00\"', '\"24552,00\"', '\"14000,00\"', '\"38552,00\"', '\"16,5\"', '16', 'TURKMENISTAN', 'TURKEY', 'AKGULYYEV AKMUHAMMET', '1246AGI/682OTAG', 'PACKAGING FILM', '\"24025,00\"']\n",
      "balanced_batch_columns is ['s', 'h', 'i', 'p', 'p', 'e', 'r', 's']\n",
      "text is ('\"24921,00\"', '\"14000,00\"', '\"38921,00\"', '\"16,5\"', '17', 'TURKMENISTAN', 'TURKEY', 'HABYBYLLAYEV DAVUT', 'DI9384AH/АH6623TR', 'SYGYR DERISI', '\"24000,00\"', '\"24000,00\"', '\"14000,00\"', '\"38000,06\"', '16', '18')\n",
      "balanced_batch_texts is ['\"24921,00\"', '\"14000,00\"', '\"38921,00\"', '\"16,5\"', '17', 'TURKMENISTAN', 'TURKEY', 'HABYBYLLAYEV DAVUT', 'DI9384AH/АH6623TR', 'SYGYR DERISI', '\"24000,00\"', '\"24000,00\"', '\"14000,00\"', '\"38000,06\"', '16', '18']\n",
      "balanced_batch_columns is ['s', 'h', 'i', 'p', 'p', 'e', 'r', 's']\n",
      "text is ('TURKMENISTAN', 'TURKEY', 'HABYBYLLAYEV HABIBULLA', '1714АНЕ/1920TАH', 'COTTON YARN', '\"22000,00\"', '\"22499,00\"', '\"14006,00\"', '\"36499,00\"', '16', '19', 'TURKMENISTAN', 'TURKEY', 'OVEZOV DAVUT', 'AK7520АH/AH4327TR', 'TEXTIIE WASTE')\n",
      "balanced_batch_texts is ['TURKMENISTAN', 'TURKEY', 'HABYBYLLAYEV HABIBULLA', '1714АНЕ/1920TАH', 'COTTON YARN', '\"22000,00\"', '\"22499,00\"', '\"14006,00\"', '\"36499,00\"', '16', '19', 'TURKMENISTAN', 'TURKEY', 'OVEZOV DAVUT', 'AK7520АH/AH4327TR', 'TEXTIIE WASTE']\n",
      "balanced_batch_columns is ['s', 'h', 'i', 'p', 'p', 'e', 'r', 's']\n",
      "text is ('\"14922,06\"', '\"14984,00\"', '\"14000,00\"', '\"28984,00\"', '16', '20', 'TURKMENISTAN', 'TURKEY', 'OVEZOV GYLYCHNYYAZ', 'ЕА4155АН/AH4354TR', 'SKINS OF CATTLE', '\"24000,00\"', '\"24000,00\"', '\"14000,00\"', '\"38000,00\"', '16')\n",
      "balanced_batch_texts is ['\"14922,06\"', '\"14984,00\"', '\"14000,00\"', '\"28984,00\"', '16', '20', 'TURKMENISTAN', 'TURKEY', 'OVEZOV GYLYCHNYYAZ', 'ЕА4155АН/AH4354TR', 'SKINS OF CATTLE', '\"24000,00\"', '\"24000,00\"', '\"14000,00\"', '\"38000,00\"', '16']\n",
      "balanced_batch_columns is ['s', 'h', 'i', 'p', 'p', 'e', 'r', 's']\n"
     ]
    },
    {
     "ename": "KeyboardInterrupt",
     "evalue": "",
     "output_type": "error",
     "traceback": [
      "\u001b[1;31m---------------------------------------------------------------------------\u001b[0m",
      "\u001b[1;31mKeyboardInterrupt\u001b[0m                         Traceback (most recent call last)",
      "Cell \u001b[1;32mIn[5], line 2\u001b[0m\n\u001b[0;32m      1\u001b[0m opt \u001b[38;5;241m=\u001b[39m get_config(\u001b[38;5;124m\"\u001b[39m\u001b[38;5;124mconfig_files/en_filtered_config.yaml\u001b[39m\u001b[38;5;124m\"\u001b[39m)\n\u001b[1;32m----> 2\u001b[0m \u001b[43mtrain\u001b[49m\u001b[43m(\u001b[49m\u001b[43mopt\u001b[49m\u001b[43m,\u001b[49m\u001b[43m \u001b[49m\u001b[43mamp\u001b[49m\u001b[38;5;241;43m=\u001b[39;49m\u001b[38;5;28;43;01mFalse\u001b[39;49;00m\u001b[43m)\u001b[49m\n",
      "File \u001b[1;32mc:\\Users\\polad\\OneDrive\\Рабочий стол\\easyocrtraingithub\\train.py:245\u001b[0m, in \u001b[0;36mtrain\u001b[1;34m(opt, show_number, amp)\u001b[0m\n\u001b[0;32m    243\u001b[0m     target \u001b[38;5;241m=\u001b[39m text[:, \u001b[38;5;241m1\u001b[39m:]  \u001b[38;5;66;03m# without [GO] Symbol\u001b[39;00m\n\u001b[0;32m    244\u001b[0m     cost \u001b[38;5;241m=\u001b[39m criterion(preds\u001b[38;5;241m.\u001b[39mview(\u001b[38;5;241m-\u001b[39m\u001b[38;5;241m1\u001b[39m, preds\u001b[38;5;241m.\u001b[39mshape[\u001b[38;5;241m-\u001b[39m\u001b[38;5;241m1\u001b[39m]), target\u001b[38;5;241m.\u001b[39mcontiguous()\u001b[38;5;241m.\u001b[39mview(\u001b[38;5;241m-\u001b[39m\u001b[38;5;241m1\u001b[39m))\n\u001b[1;32m--> 245\u001b[0m \u001b[43mcost\u001b[49m\u001b[38;5;241;43m.\u001b[39;49m\u001b[43mbackward\u001b[49m\u001b[43m(\u001b[49m\u001b[43m)\u001b[49m\n\u001b[0;32m    246\u001b[0m torch\u001b[38;5;241m.\u001b[39mnn\u001b[38;5;241m.\u001b[39mutils\u001b[38;5;241m.\u001b[39mclip_grad_norm_(model\u001b[38;5;241m.\u001b[39mparameters(), opt\u001b[38;5;241m.\u001b[39mgrad_clip) \n\u001b[0;32m    247\u001b[0m optimizer\u001b[38;5;241m.\u001b[39mstep()\n",
      "File \u001b[1;32mc:\\Users\\polad\\AppData\\Local\\Programs\\Python\\Python39\\lib\\site-packages\\torch\\_tensor.py:525\u001b[0m, in \u001b[0;36mTensor.backward\u001b[1;34m(self, gradient, retain_graph, create_graph, inputs)\u001b[0m\n\u001b[0;32m    515\u001b[0m \u001b[38;5;28;01mif\u001b[39;00m has_torch_function_unary(\u001b[38;5;28mself\u001b[39m):\n\u001b[0;32m    516\u001b[0m     \u001b[38;5;28;01mreturn\u001b[39;00m handle_torch_function(\n\u001b[0;32m    517\u001b[0m         Tensor\u001b[38;5;241m.\u001b[39mbackward,\n\u001b[0;32m    518\u001b[0m         (\u001b[38;5;28mself\u001b[39m,),\n\u001b[1;32m   (...)\u001b[0m\n\u001b[0;32m    523\u001b[0m         inputs\u001b[38;5;241m=\u001b[39minputs,\n\u001b[0;32m    524\u001b[0m     )\n\u001b[1;32m--> 525\u001b[0m \u001b[43mtorch\u001b[49m\u001b[38;5;241;43m.\u001b[39;49m\u001b[43mautograd\u001b[49m\u001b[38;5;241;43m.\u001b[39;49m\u001b[43mbackward\u001b[49m\u001b[43m(\u001b[49m\n\u001b[0;32m    526\u001b[0m \u001b[43m    \u001b[49m\u001b[38;5;28;43mself\u001b[39;49m\u001b[43m,\u001b[49m\u001b[43m \u001b[49m\u001b[43mgradient\u001b[49m\u001b[43m,\u001b[49m\u001b[43m \u001b[49m\u001b[43mretain_graph\u001b[49m\u001b[43m,\u001b[49m\u001b[43m \u001b[49m\u001b[43mcreate_graph\u001b[49m\u001b[43m,\u001b[49m\u001b[43m \u001b[49m\u001b[43minputs\u001b[49m\u001b[38;5;241;43m=\u001b[39;49m\u001b[43minputs\u001b[49m\n\u001b[0;32m    527\u001b[0m \u001b[43m\u001b[49m\u001b[43m)\u001b[49m\n",
      "File \u001b[1;32mc:\\Users\\polad\\AppData\\Local\\Programs\\Python\\Python39\\lib\\site-packages\\torch\\autograd\\__init__.py:267\u001b[0m, in \u001b[0;36mbackward\u001b[1;34m(tensors, grad_tensors, retain_graph, create_graph, grad_variables, inputs)\u001b[0m\n\u001b[0;32m    262\u001b[0m     retain_graph \u001b[38;5;241m=\u001b[39m create_graph\n\u001b[0;32m    264\u001b[0m \u001b[38;5;66;03m# The reason we repeat the same comment below is that\u001b[39;00m\n\u001b[0;32m    265\u001b[0m \u001b[38;5;66;03m# some Python versions print out the first line of a multi-line function\u001b[39;00m\n\u001b[0;32m    266\u001b[0m \u001b[38;5;66;03m# calls in the traceback and some print out the last line\u001b[39;00m\n\u001b[1;32m--> 267\u001b[0m \u001b[43m_engine_run_backward\u001b[49m\u001b[43m(\u001b[49m\n\u001b[0;32m    268\u001b[0m \u001b[43m    \u001b[49m\u001b[43mtensors\u001b[49m\u001b[43m,\u001b[49m\n\u001b[0;32m    269\u001b[0m \u001b[43m    \u001b[49m\u001b[43mgrad_tensors_\u001b[49m\u001b[43m,\u001b[49m\n\u001b[0;32m    270\u001b[0m \u001b[43m    \u001b[49m\u001b[43mretain_graph\u001b[49m\u001b[43m,\u001b[49m\n\u001b[0;32m    271\u001b[0m \u001b[43m    \u001b[49m\u001b[43mcreate_graph\u001b[49m\u001b[43m,\u001b[49m\n\u001b[0;32m    272\u001b[0m \u001b[43m    \u001b[49m\u001b[43minputs\u001b[49m\u001b[43m,\u001b[49m\n\u001b[0;32m    273\u001b[0m \u001b[43m    \u001b[49m\u001b[43mallow_unreachable\u001b[49m\u001b[38;5;241;43m=\u001b[39;49m\u001b[38;5;28;43;01mTrue\u001b[39;49;00m\u001b[43m,\u001b[49m\n\u001b[0;32m    274\u001b[0m \u001b[43m    \u001b[49m\u001b[43maccumulate_grad\u001b[49m\u001b[38;5;241;43m=\u001b[39;49m\u001b[38;5;28;43;01mTrue\u001b[39;49;00m\u001b[43m,\u001b[49m\n\u001b[0;32m    275\u001b[0m \u001b[43m\u001b[49m\u001b[43m)\u001b[49m\n",
      "File \u001b[1;32mc:\\Users\\polad\\AppData\\Local\\Programs\\Python\\Python39\\lib\\site-packages\\torch\\autograd\\graph.py:744\u001b[0m, in \u001b[0;36m_engine_run_backward\u001b[1;34m(t_outputs, *args, **kwargs)\u001b[0m\n\u001b[0;32m    742\u001b[0m     unregister_hooks \u001b[38;5;241m=\u001b[39m _register_logging_hooks_on_whole_graph(t_outputs)\n\u001b[0;32m    743\u001b[0m \u001b[38;5;28;01mtry\u001b[39;00m:\n\u001b[1;32m--> 744\u001b[0m     \u001b[38;5;28;01mreturn\u001b[39;00m Variable\u001b[38;5;241m.\u001b[39m_execution_engine\u001b[38;5;241m.\u001b[39mrun_backward(  \u001b[38;5;66;03m# Calls into the C++ engine to run the backward pass\u001b[39;00m\n\u001b[0;32m    745\u001b[0m         t_outputs, \u001b[38;5;241m*\u001b[39margs, \u001b[38;5;241m*\u001b[39m\u001b[38;5;241m*\u001b[39mkwargs\n\u001b[0;32m    746\u001b[0m     )  \u001b[38;5;66;03m# Calls into the C++ engine to run the backward pass\u001b[39;00m\n\u001b[0;32m    747\u001b[0m \u001b[38;5;28;01mfinally\u001b[39;00m:\n\u001b[0;32m    748\u001b[0m     \u001b[38;5;28;01mif\u001b[39;00m attach_logging_hooks:\n",
      "\u001b[1;31mKeyboardInterrupt\u001b[0m: "
     ]
    }
   ],
   "source": [
    "opt = get_config(\"config_files/en_filtered_config.yaml\")\n",
    "train(opt, amp=False)\n"
   ]
  },
  {
   "cell_type": "code",
   "execution_count": null,
   "metadata": {},
   "outputs": [],
   "source": []
  },
  {
   "cell_type": "code",
   "execution_count": null,
   "metadata": {},
   "outputs": [],
   "source": []
  },
  {
   "cell_type": "code",
   "execution_count": null,
   "metadata": {},
   "outputs": [],
   "source": []
  }
 ],
 "metadata": {
  "kernelspec": {
   "display_name": "Python 3",
   "language": "python",
   "name": "python3"
  },
  "language_info": {
   "codemirror_mode": {
    "name": "ipython",
    "version": 3
   },
   "file_extension": ".py",
   "mimetype": "text/x-python",
   "name": "python",
   "nbconvert_exporter": "python",
   "pygments_lexer": "ipython3",
   "version": "3.9.13"
  }
 },
 "nbformat": 4,
 "nbformat_minor": 2
}
